{
 "cells": [
  {
   "cell_type": "code",
   "execution_count": null,
   "metadata": {},
   "outputs": [],
   "source": [
    "# import general packages\n",
    "import numpy as np\n",
    "\n",
    "import matplotlib.pyplot as plt\n",
    "from matplotlib.animation import FFMpegWriter\n",
    "from matplotlib.colors import LinearSegmentedColormap\n",
    "import matplotlib.patches as patches\n",
    "import matplotlib.gridspec as gridspec\n",
    "\n",
    "from scipy.interpolate import interp1d\n",
    "from scipy.optimize import brentq\n",
    "\n",
    "import h5py\n",
    "import json\n",
    "import os\n",
    "from datetime import datetime\n",
    "\n",
    "import pde\n",
    "import phasesep_pyrenoid as ph\n",
    "from phasesep_pyrenoid.helper_functions import cmap_exp, cmap_orange, dark_orange, colors, colors_exp, scale_length, dt_length, add_scalebar, add_timenote\n",
    "from phasesep_pyrenoid.solvers_simulations import solve_stokes_flow, run_simulation\n",
    "from droplets import DiffuseDroplet, Emulsion, SphericalDroplet\n",
    "\n",
    "\n",
    "FOLDER_RESULTS = \"./simulation_results/Paper/\"\n",
    "FOLDER_FIGURES= FOLDER_RESULTS+\"figures_for_paper/\""
   ]
  },
  {
   "cell_type": "markdown",
   "metadata": {},
   "source": [
    "This code produces the plot of the Stokes flow velocity and pressure for Fig 2"
   ]
  },
  {
   "cell_type": "code",
   "execution_count": 2,
   "metadata": {},
   "outputs": [],
   "source": [
    "params_advection = {\n",
    "        \"nx\": 83, # Grid size x\n",
    "        \"ny\": 83, # Grid size y\n",
    "        \"Lx\":40.0, # Domain size x\n",
    "        \"Ly\":40.0, # Domain size y\n",
    "        \"mu\": 40, # Dynamic viscosity\n",
    "        \"eta\": 12.5, # Damping\n",
    "        \"P0\": 10, # Max of gaussian pressure\n",
    "        \"sigma_P\" : 1.2, # Width of gaussian pressure\n",
    "    }\n",
    "\n",
    "P, u, x, y, X, Y = solve_stokes_flow(**params_advection)"
   ]
  },
  {
   "cell_type": "code",
   "execution_count": 8,
   "metadata": {},
   "outputs": [
    {
     "data": {
      "image/png": "[encoded data removed]",
      "text/plain": [
       "<Figure size 250x350 with 3 Axes>"
      ]
     },
     "metadata": {},
     "output_type": "display_data"
    }
   ],
   "source": [
    "###### PLOT FOR FIGURE 1\n",
    "# Subsample for quiver\n",
    "arr_dist = 5\n",
    "arr_dist2 = 15\n",
    "H, W = X.shape\n",
    "center_i, center_j = H // 2, W // 2\n",
    "i_start, j_start = center_i % arr_dist, center_j % arr_dist2\n",
    "i_indices = np.arange(i_start, H, arr_dist)\n",
    "j_indices = np.arange(j_start, W, arr_dist2)\n",
    "I, J = np.meshgrid(i_indices, j_indices, indexing=\"ij\")\n",
    "v = np.zeros_like(u)\n",
    "X_q, Y_q = X[I, J], Y[I, J]\n",
    "u_q, v_q = u[I, J], v[I, J]\n",
    "\n",
    "# Create figure with controlled layout\n",
    "fig = plt.figure(figsize=(2.5, 3.5))\n",
    "gs = gridspec.GridSpec(2, 1, height_ratios=[2, 7], hspace=0.1)\n",
    "\n",
    "# Top: Pressure and velocity on same x-axis\n",
    "ax1 = fig.add_subplot(gs[0])\n",
    "y1 = P[:, 41]\n",
    "y2 = u[:, 41]\n",
    "press_color = \"tab:red\"\n",
    "velo_color = \"tab:blue\"\n",
    "\n",
    "# Plot pressure\n",
    "ax1.plot(x, y1, color=press_color, label='Pressure P')\n",
    "ax1.set_ylabel('Pressure P', color=press_color)\n",
    "ax1.tick_params(axis='y', labelcolor=press_color)\n",
    "ax1.set_ylim([-1.3 * max(abs(y1)), 1.3 * max(abs(y1))])\n",
    "# Adjust spines for Cartesian style\n",
    "ax1.spines['top'].set_visible(False)\n",
    "ax1.spines['right'].set_visible(False)\n",
    "ax1.spines['left'].set_position('zero')  # Optional: move y=0 axis to the left\n",
    "ax1.spines['bottom'].set_position('zero')  # Move x-axis to y=0\n",
    "ax1.xaxis.set_ticks_position('bottom')\n",
    "ax1.yaxis.set_ticks_position('left')\n",
    "\n",
    "ax2 = ax1.twinx()\n",
    "ax2.plot(x, y2, linestyle='--', color=velo_color)\n",
    "ax2.set_ylabel(\"Velocity v\", color=velo_color)\n",
    "ax2.tick_params(axis='y', labelcolor=velo_color)\n",
    "ax2.spines['top'].set_visible(False)\n",
    "ax2.spines['left'].set_visible(False)\n",
    "ax2.spines['bottom'].set_visible(False)\n",
    "ax1.set_xticks([])\n",
    "\n",
    "# Bottom: imshow and quiver\n",
    "ax3 = fig.add_subplot(gs[1], sharex=ax1)\n",
    "im = ax3.imshow(np.transpose(P), extent=[0, params_advection[\"Lx\"], 0, params_advection[\"Ly\"]], origin=\"lower\", cmap=\"Reds\", alpha=1, aspect='equal')\n",
    "qv = ax3.quiver(X_q, Y_q, u_q, v_q, scale=2, color=\"tab:blue\", width=0.01)\n",
    "# ax3.set_xlabel(\"X\")\n",
    "# ax3.set_ylabel(\"Y\")\n",
    "ax3.set_yticks([])\n",
    "#ax3.set_xticks([0,0.5,1])\n",
    "\n",
    "# Colorbar for imshow\n",
    "#cbar = plt.colorbar(im, ax=ax3, label=\"Pressure\", pad=0.01)\n",
    "\n",
    "#plt.tight_layout()\n",
    "plt.savefig(FOLDER_FIGURES+\"pressure_velocity.svg\", bbox_inches='tight')\n",
    "plt.show()\n"
   ]
  }
 ],
 "metadata": {
  "kernelspec": {
   "display_name": ".venv",
   "language": "python",
   "name": "python3"
  },
  "language_info": {
   "codemirror_mode": {
    "name": "ipython",
    "version": 3
   },
   "file_extension": ".py",
   "mimetype": "text/x-python",
   "name": "python",
   "nbconvert_exporter": "python",
   "pygments_lexer": "ipython3",
   "version": "3.11.11"
  },
  "toc": {
   "base_numbering": 1,
   "nav_menu": {},
   "number_sections": true,
   "sideBar": true,
   "skip_h1_title": false,
   "title_cell": "Table of Contents",
   "title_sidebar": "Contents",
   "toc_cell": false,
   "toc_position": {},
   "toc_section_display": true,
   "toc_window_display": false
  }
 },
 "nbformat": 4,
 "nbformat_minor": 2
}
